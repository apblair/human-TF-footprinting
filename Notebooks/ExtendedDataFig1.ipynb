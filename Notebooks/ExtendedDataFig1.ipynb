{
 "cells": [
  {
   "cell_type": "markdown",
   "id": "2800652e-6673-4672-a993-90a4df8a5a61",
   "metadata": {},
   "source": [
    "# Footprint calling and plotting of a single DHS\n"
   ]
  },
  {
   "cell_type": "code",
   "execution_count": 1,
   "id": "64afd630-1118-4d9d-9c4d-cdca035033f7",
   "metadata": {},
   "outputs": [],
   "source": [
    "import numpy as np\n",
    "import pandas as pd\n",
    "import scipy as sc\n",
    "import scipy.stats as stats\n",
    "\n",
    "import pysam\n",
    "\n",
    "from genome_tools import bed, genomic_interval\n",
    "from footprint_tools import cutcounts\n",
    "from footprint_tools.modeling import bias, predict, dispersion\n",
    "from footprint_tools.stats import fdr, windowing, utils"
   ]
  },
  {
   "cell_type": "markdown",
   "id": "2d6495fc-26ba-4c74-a747-af6aa1283773",
   "metadata": {},
   "source": [
    "# Import Data"
   ]
  },
  {
   "cell_type": "code",
   "execution_count": 2,
   "id": "3597124c-4341-4cfb-bc4c-7a135118c054",
   "metadata": {},
   "outputs": [],
   "source": [
    "# This is the genomic region to plot data\n",
    "interval = genomic_interval('chr19', 48363826, 48364602)\n",
    "\n",
    "counts_reader = cutcounts.bamfile('../Data/reads.bam')\n",
    "fasta_reader = pysam.FastaFile('../Data/hg38.all.fa')\n",
    "dm = dispersion.load_dispersion_model('../Data/dm.json')\n",
    "bm = bias.kmer_model('../Data/vierstra_et_al.6mer-model.txt')"
   ]
  },
  {
   "cell_type": "markdown",
   "id": "058b8054-9c22-4e5a-9307-2138f6173b1e",
   "metadata": {},
   "source": [
    "# Perform footprint detection"
   ]
  },
  {
   "cell_type": "code",
   "execution_count": 3,
   "id": "dcbcbb6b-8289-481b-ba6a-f5af84108100",
   "metadata": {},
   "outputs": [],
   "source": [
    "predictor = predict.prediction(counts_reader, \n",
    "                               fasta_reader, \n",
    "                               bm, \n",
    "                               half_win_width = 5, \n",
    "                               smoothing_half_win_width = 50, \n",
    "                               smoothing_clip = 0.01)\n",
    "(obs_counts, exp_counts, win_counts) = predictor.compute(interval)"
   ]
  },
  {
   "cell_type": "code",
   "execution_count": 4,
   "id": "46c335e0-7c3f-4d24-bfb6-a65b8bf06a35",
   "metadata": {},
   "outputs": [],
   "source": [
    "# Compute expected counts\n",
    "# Note: windowed counts are used to generated expected counts\n",
    "# and not used directly in statistical testing\n",
    "obs = obs_counts['+'][1:] + obs_counts['-'][:-1]\n",
    "exp = exp_counts['+'][1:] + exp_counts['-'][:-1]\n",
    "win = win_counts['+'][1:] + win_counts['-'][:-1]"
   ]
  },
  {
   "cell_type": "code",
   "execution_count": 5,
   "id": "fc1ceeb5-5302-4284-9afc-86b6bab4d269",
   "metadata": {},
   "outputs": [],
   "source": [
    "# Per-nucleotide p-values\n",
    "pvals = dm.p_values(exp, obs)"
   ]
  },
  {
   "cell_type": "code",
   "execution_count": 6,
   "id": "0be9f9de-912d-4491-9b57-87065e7602a8",
   "metadata": {},
   "outputs": [],
   "source": [
    "# Windowed p-values with Stouffer's Z\n",
    "winpvals_func = lambda x: windowing.stouffers_z(np.ascontiguousarray(x), 3)\n",
    "winpvals = np.array(winpvals_func(pvals))"
   ]
  },
  {
   "cell_type": "code",
   "execution_count": 7,
   "id": "e1b81a6a-e710-4049-ac6c-525606e95b84",
   "metadata": {},
   "outputs": [],
   "source": [
    "# Resample from expected distributions for emperical adjustment of p-values for multiple testing\n",
    "_, pvals_null = dm.sample(exp, 1000)\n",
    "winpvals_null = np.apply_along_axis(winpvals_func, 0, pvals_null)\n",
    "fdr = fdr.emperical_fdr(winpvals_null, winpvals)\n",
    "\n",
    "# Call footprints at 0.01 FDR\n",
    "fps = [genomic_interval(interval.chrom, interval.start+x, interval.start+y)\n",
    "    for x, y in utils.segment(np.array(fdr), 0.01, 3, decreasing=True) ]"
   ]
  },
  {
   "cell_type": "markdown",
   "id": "0756ca6c-c87a-4efa-b955-1c5d8f6f1ef2",
   "metadata": {},
   "source": [
    "# Plot genomic footprinting data"
   ]
  },
  {
   "cell_type": "code",
   "execution_count": 8,
   "id": "e06b2d12-ab25-47b7-bb4f-202ccefd373c",
   "metadata": {},
   "outputs": [
    {
     "ename": "SyntaxError",
     "evalue": "invalid syntax (track.py, line 48)",
     "output_type": "error",
     "traceback": [
      "Traceback \u001b[0;36m(most recent call last)\u001b[0m:\n",
      "  File \u001b[1;32m\"/opt/conda/lib/python3.9/site-packages/IPython/core/interactiveshell.py\"\u001b[0m, line \u001b[1;32m3444\u001b[0m, in \u001b[1;35mrun_code\u001b[0m\n    exec(code_obj, self.user_global_ns, self.user_ns)\n",
      "  File \u001b[1;32m\"/tmp/ipykernel_228/3915782185.py\"\u001b[0m, line \u001b[1;32m6\u001b[0m, in \u001b[1;35m<module>\u001b[0m\n    from genome_tools.plotting import signal_plot, add_scale_bar\n",
      "\u001b[0;36m  File \u001b[0;32m\"/opt/conda/lib/python3.9/site-packages/genome_tools/plotting/__init__.py\"\u001b[0;36m, line \u001b[0;32m6\u001b[0;36m, in \u001b[0;35m<module>\u001b[0;36m\u001b[0m\n\u001b[0;31m    from .track import track\u001b[0m\n",
      "\u001b[0;36m  File \u001b[0;32m\"/opt/conda/lib/python3.9/site-packages/genome_tools/plotting/track.py\"\u001b[0;36m, line \u001b[0;32m48\u001b[0m\n\u001b[0;31m    class\u001b[0m\n\u001b[0m          ^\u001b[0m\n\u001b[0;31mSyntaxError\u001b[0m\u001b[0;31m:\u001b[0m invalid syntax\n"
     ]
    }
   ],
   "source": [
    "import matplotlib.pyplot as plt\n",
    "import matplotlib.gridspec as mgridspec\n",
    "import matplotlib.ticker as mticker\n",
    "import matplotlib.collections as mcollections\n",
    "\n",
    "from genome_tools.plotting import signal_plot, add_scale_bar\n",
    "\n",
    "def discrete_cmap(N, base_cmap=None):\n",
    "    \"\"\"Create an N-bin discrete colormap from the specified input map\"\"\"\n",
    "\n",
    "    # Note that if base_cmap is a string or None, you can simply do\n",
    "    #    return plt.cm.get_cmap(base_cmap, N)\n",
    "    # The following works for string, None, or a colormap instance:\n",
    "\n",
    "    base = plt.cm.get_cmap(base_cmap)\n",
    "    color_list = base(np.linspace(0, 1, N))\n",
    "    cmap_name = base.name + str(N)\n",
    "    return base.from_list(cmap_name, color_list, N)\n",
    "\n",
    "def make_nb_plot(expected, observed, dm, ax, lo = 0, hi = 125):\n",
    "    \"\"\"Plots the dispersion model negative binomial distribution\"\"\"\n",
    "\n",
    "    x = np.arange(lo, hi)\n",
    "\n",
    "    mu = dm.fit_mu(expected)\n",
    "    r = dm.fit_r(expected)\n",
    "    p = r/(r+mu)\n",
    "\n",
    "    y = sc.stats.nbinom.pmf(x, r, p)\n",
    "    ax.plot(x, y, label = \"Expected cleavage rate\")\n",
    "    ax.fill_between(x[:int(observed)], 0, y[:int(observed)], edgecolor = 'none', label=\"Prob. observed\")\n",
    "\n",
    "    ax.set_xlim(left = lo, right = hi)\n",
    "\n",
    "    ax.set_xlabel(\"Cleavages\")\n",
    "    ax.set_ylabel(\"Density\")\n",
    "\n",
    "    [ax.spines[loc].set_color(\"none\") for loc in [\"top\", \"right\"]]\n",
    "    ax.xaxis.set_ticks_position(\"bottom\")\n",
    "    ax.xaxis.set_tick_params(direction = \"out\")\n",
    "    ax.xaxis.set(major_locator = mticker.MaxNLocator(4))\n",
    "\n",
    "    ax.yaxis.set_ticks_position(\"left\")\n",
    "    ax.yaxis.set_tick_params(direction = \"out\")\n",
    "    ax.yaxis.set(major_locator = mticker.MaxNLocator(3))\n",
    "    ax.set_ylim(bottom=0)"
   ]
  },
  {
   "cell_type": "code",
   "execution_count": null,
   "id": "72512e71-12c8-455b-8f39-8e4040ca5ad6",
   "metadata": {},
   "outputs": [],
   "source": []
  }
 ],
 "metadata": {
  "kernelspec": {
   "display_name": "Python 3 (ipykernel)",
   "language": "python",
   "name": "python3"
  },
  "language_info": {
   "codemirror_mode": {
    "name": "ipython",
    "version": 3
   },
   "file_extension": ".py",
   "mimetype": "text/x-python",
   "name": "python",
   "nbconvert_exporter": "python",
   "pygments_lexer": "ipython3",
   "version": "3.9.7"
  }
 },
 "nbformat": 4,
 "nbformat_minor": 5
}

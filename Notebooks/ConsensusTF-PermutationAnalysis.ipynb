{
 "cells": [
  {
   "cell_type": "code",
   "execution_count": 2,
   "id": "794698a7-0341-41d2-9e1b-e4c02a03ea73",
   "metadata": {},
   "outputs": [
    {
     "name": "stderr",
     "output_type": "stream",
     "text": [
      "Loading required package: GenomicRanges\n",
      "\n",
      "Loading required package: stats4\n",
      "\n",
      "Loading required package: BiocGenerics\n",
      "\n",
      "\n",
      "Attaching package: ‘BiocGenerics’\n",
      "\n",
      "\n",
      "The following objects are masked from ‘package:stats’:\n",
      "\n",
      "    IQR, mad, sd, var, xtabs\n",
      "\n",
      "\n",
      "The following objects are masked from ‘package:base’:\n",
      "\n",
      "    anyDuplicated, append, as.data.frame, basename, cbind, colnames,\n",
      "    dirname, do.call, duplicated, eval, evalq, Filter, Find, get, grep,\n",
      "    grepl, intersect, is.unsorted, lapply, Map, mapply, match, mget,\n",
      "    order, paste, pmax, pmax.int, pmin, pmin.int, Position, rank,\n",
      "    rbind, Reduce, rownames, sapply, setdiff, sort, table, tapply,\n",
      "    union, unique, unsplit, which.max, which.min\n",
      "\n",
      "\n",
      "Loading required package: S4Vectors\n",
      "\n",
      "\n",
      "Attaching package: ‘S4Vectors’\n",
      "\n",
      "\n",
      "The following objects are masked from ‘package:base’:\n",
      "\n",
      "    expand.grid, I, unname\n",
      "\n",
      "\n",
      "Loading required package: IRanges\n",
      "\n",
      "Loading required package: GenomeInfoDb\n",
      "\n"
     ]
    }
   ],
   "source": [
    "library(regioneR)"
   ]
  },
  {
   "cell_type": "code",
   "execution_count": 4,
   "id": "29378977-de21-4382-ae3a-a7cccbb6c437",
   "metadata": {},
   "outputs": [],
   "source": [
    "map_bed <- toGRanges(read.table('../Data/mappability.stranded.bed', sep=\"\\t\"))"
   ]
  },
  {
   "cell_type": "code",
   "execution_count": 3,
   "id": "4d7ef335-30d8-4756-8fc5-e58ff9fac5f0",
   "metadata": {},
   "outputs": [],
   "source": [
    "cd19_bed <- toGRanges(read.table('../Data/interval.all.bed', sep=\"\\t\"))"
   ]
  },
  {
   "cell_type": "code",
   "execution_count": 4,
   "id": "34ed8f30-262f-44db-abad-b72fcb04e1d1",
   "metadata": {},
   "outputs": [
    {
     "data": {
      "text/plain": [
       "GRanges object with 86147394 ranges and 0 metadata columns:\n",
       "           seqnames            ranges strand\n",
       "              <Rle>         <IRanges>  <Rle>\n",
       "         1     chr1     180788-180789      *\n",
       "         2     chr1     180789-180790      *\n",
       "         3     chr1     180790-180791      *\n",
       "         4     chr1     180791-180792      *\n",
       "         5     chr1     180792-180793      *\n",
       "       ...      ...               ...    ...\n",
       "  86147390     chrY 56838579-56838580      *\n",
       "  86147391     chrY 56838580-56838581      *\n",
       "  86147392     chrY 56838581-56838582      *\n",
       "  86147393     chrY 56838582-56838583      *\n",
       "  86147394     chrY 56838583-56838584      *\n",
       "  -------\n",
       "  seqinfo: 24 sequences from an unspecified genome; no seqlengths"
      ]
     },
     "metadata": {},
     "output_type": "display_data"
    }
   ],
   "source": [
    "cd19_bed"
   ]
  }
 ],
 "metadata": {
  "kernelspec": {
   "display_name": "R",
   "language": "R",
   "name": "ir"
  },
  "language_info": {
   "codemirror_mode": "r",
   "file_extension": ".r",
   "mimetype": "text/x-r-source",
   "name": "R",
   "pygments_lexer": "r",
   "version": "4.1.1"
  }
 },
 "nbformat": 4,
 "nbformat_minor": 5
}

{
 "cells": [
  {
   "cell_type": "code",
   "execution_count": 2,
   "id": "794698a7-0341-41d2-9e1b-e4c02a03ea73",
   "metadata": {},
   "outputs": [],
   "source": [
    "library(regioneR)"
   ]
  },
  {
   "cell_type": "code",
   "execution_count": 4,
   "id": "29378977-de21-4382-ae3a-a7cccbb6c437",
   "metadata": {},
   "outputs": [],
   "source": [
    "map_bed <- toGRanges(read.table('../Data/mappability.stranded.bed', sep=\"\\t\"))"
   ]
  },
  {
   "cell_type": "code",
   "execution_count": null,
   "id": "4d7ef335-30d8-4756-8fc5-e58ff9fac5f0",
   "metadata": {},
   "outputs": [],
   "source": []
  }
 ],
 "metadata": {
  "kernelspec": {
   "display_name": "R",
   "language": "R",
   "name": "ir"
  },
  "language_info": {
   "codemirror_mode": "r",
   "file_extension": ".r",
   "mimetype": "text/x-r-source",
   "name": "R",
   "pygments_lexer": "r",
   "version": "4.1.1"
  }
 },
 "nbformat": 4,
 "nbformat_minor": 5
}

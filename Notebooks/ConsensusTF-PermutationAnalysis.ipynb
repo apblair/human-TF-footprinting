{
 "cells": [
  {
   "cell_type": "code",
   "execution_count": 14,
   "metadata": {},
   "outputs": [
    {
     "name": "stderr",
     "output_type": "stream",
     "text": [
      "Loading required package: BSgenome\n",
      "\n",
      "Loading required package: Biostrings\n",
      "\n",
      "Loading required package: XVector\n",
      "\n",
      "\n",
      "Attaching package: ‘Biostrings’\n",
      "\n",
      "\n",
      "The following object is masked from ‘package:base’:\n",
      "\n",
      "    strsplit\n",
      "\n",
      "\n",
      "Loading required package: rtracklayer\n",
      "\n"
     ]
    }
   ],
   "source": [
    "library(regioneR)\n",
    "library(BSgenome.Hsapiens.UCSC.hg19)"
   ]
  },
  {
   "cell_type": "markdown",
   "metadata": {
    "heading_collapsed": true
   },
   "source": [
    "# Import Data"
   ]
  },
  {
   "cell_type": "markdown",
   "metadata": {
    "hidden": true
   },
   "source": [
    "## Mappability bed file\n",
    "\n",
    "The mappability bed file specifies the regions where the sequencing strategy can detect cleavage events."
   ]
  },
  {
   "cell_type": "code",
   "execution_count": 3,
   "metadata": {
    "hidden": true
   },
   "outputs": [],
   "source": [
    "map_bed <- toGRanges(read.table('/home/jupyter/human-TF-footprinting/Data/mappability.stranded.bed',\n",
    "                                sep='\\t'))"
   ]
  },
  {
   "cell_type": "markdown",
   "metadata": {
    "hidden": true
   },
   "source": [
    "## Consensus"
   ]
  },
  {
   "cell_type": "code",
   "execution_count": 4,
   "metadata": {
    "hidden": true
   },
   "outputs": [],
   "source": [
    "consensus_bed <- toGRanges(read.table('/home/jupyter/human-TF-footprinting/Data/consensus_footprints_and_collapsed_motifs_hg38.bed',\n",
    "                                sep='\\t'))"
   ]
  },
  {
   "cell_type": "markdown",
   "metadata": {
    "hidden": true
   },
   "source": [
    "## CD20 Expected Cleavages"
   ]
  },
  {
   "cell_type": "code",
   "execution_count": 5,
   "metadata": {
    "hidden": true
   },
   "outputs": [],
   "source": [
    "cd20_beds <- list(cd20_0.0001 = toGRanges(read.table('/home/jupyter/human-TF-footprinting/Data/interval.all.fps.0.0001.bed', sep='\\t')),\n",
    "                  cd20_0.001 = toGRanges(read.table('/home/jupyter/human-TF-footprinting/Data/interval.all.fps.0.001.bed',sep='\\t')),\n",
    "                  cd20_0.01 = toGRanges(read.table('/home/jupyter/human-TF-footprinting/Data/interval.all.fps.0.01.bed',sep='\\t')),\n",
    "                  cd20_0.05 = toGRanges(read.table('/home/jupyter/human-TF-footprinting/Data/interval.all.fps.0.05.bed',sep='\\t')))"
   ]
  },
  {
   "cell_type": "markdown",
   "metadata": {},
   "source": [
    "# Consensus Analysis"
   ]
  },
  {
   "cell_type": "code",
   "execution_count": 6,
   "metadata": {
    "code_folding": [
     2
    ]
   },
   "outputs": [
    {
     "name": "stdout",
     "output_type": "stream",
     "text": [
      "[1] \"Number of regions in mappable regions:  64487144\"\n",
      "\n",
      "[1] \"Number of regions in the consensus:  4465728\"\n",
      "\n",
      "[1] \"cd20_0.0001 number of regions: 116426\"\n",
      "[1] \"cd20_0.001 number of regions: 192149\"\n",
      "[1] \"cd20_0.01 number of regions: 414089\"\n",
      "[1] \"cd20_0.05 number of regions: 795635\"\n",
      "\n",
      "[1] \"cd20_0.0001\"\n",
      "[1] \"Number of overlaps in mappable reions: 100042\"\n",
      "[1] \"Number of overlaps in consensus: 109073\"\n",
      "\n",
      "[1] \"cd20_0.001\"\n",
      "[1] \"Number of overlaps in mappable reions: 165393\"\n",
      "[1] \"Number of overlaps in consensus: 168529\"\n",
      "\n",
      "[1] \"cd20_0.01\"\n",
      "[1] \"Number of overlaps in mappable reions: 357360\"\n",
      "[1] \"Number of overlaps in consensus: 308905\"\n",
      "\n",
      "[1] \"cd20_0.05\"\n",
      "[1] \"Number of overlaps in mappable reions: 689323\"\n",
      "[1] \"Number of overlaps in consensus: 494636\"\n",
      "\n"
     ]
    }
   ],
   "source": [
    "consensus.analysis <- function(bed_list,\n",
    "                               map_bed,\n",
    "                               consensus_bed){\n",
    "    \n",
    "    print(paste('Number of regions in mappable regions: ', nrow(toDataframe(map_bed)), \n",
    "                sep=' '))\n",
    "    \n",
    "    cat('\\n')\n",
    "\n",
    "    print(paste('Number of regions in the consensus: ', nrow(toDataframe(consensus_bed)), \n",
    "                sep=' '))\n",
    "    \n",
    "    cat('\\n')\n",
    "\n",
    "    \n",
    "    # number of regions in dataset of interest\n",
    "    for (bed_df in names(bed_list)) {\n",
    "        print(paste(bed_df, 'number of regions:', nrow(toDataframe(bed_list[[bed_df]])), sep=' '))\n",
    "    }\n",
    "    \n",
    "    cat('\\n')\n",
    "    \n",
    "    # check if the dataset of interest is a proper subset of mappable regions\n",
    "        for (bed_df in names(bed_list)) {\n",
    "            print(bed_df)\n",
    "            print(paste('Number of overlaps in mappable reions:',\n",
    "                        numOverlaps(bed_list[[bed_df]], \n",
    "                                    map_bed, \n",
    "                                    count.once=TRUE), sep=' '))\n",
    "            print(paste('Number of overlaps in consensus:', \n",
    "                        numOverlaps(bed_list[[bed_df]], \n",
    "                                    consensus_bed, \n",
    "                                    count.once=TRUE), sep=' '))\n",
    "            cat('\\n')\n",
    "\n",
    "        }\n",
    "    \n",
    "}\n",
    "\n",
    "consensus.analysis(cd20_beds, map_bed, consensus_bed)"
   ]
  },
  {
   "cell_type": "code",
   "execution_count": 20,
   "metadata": {},
   "outputs": [],
   "source": [
    "set.seed(10)"
   ]
  },
  {
   "cell_type": "code",
   "execution_count": 21,
   "metadata": {},
   "outputs": [],
   "source": [
    "genomic_mask <- getGenomeAndMask('hg19', getGenomeAndMask('hg19', mask=map_bed))"
   ]
  },
  {
   "cell_type": "code",
   "execution_count": 24,
   "metadata": {},
   "outputs": [
    {
     "name": "stderr",
     "output_type": "stream",
     "text": [
      "Warning message in valid.GenomicRanges.seqinfo(x, suggest.trim = TRUE):\n",
      "“GRanges object contains 1 out-of-bound range located on sequence chr17.\n",
      "  Note that ranges located on a sequence whose length is unknown (NA) or\n",
      "  on a circular sequence are not considered out-of-bound (use\n",
      "  seqlengths() and isCircular() to get the lengths and circularity flags\n",
      "  of the underlying sequences). You can use trim() to trim these ranges.\n",
      "  See ?`trim,GenomicRanges-method` for more information.”\n",
      "Warning message in valid.GenomicRanges.seqinfo(x, suggest.trim = TRUE):\n",
      "“GRanges object contains 1 out-of-bound range located on sequence chr17.\n",
      "  Note that ranges located on a sequence whose length is unknown (NA) or\n",
      "  on a circular sequence are not considered out-of-bound (use\n",
      "  seqlengths() and isCircular() to get the lengths and circularity flags\n",
      "  of the underlying sequences). You can use trim() to trim these ranges.\n",
      "  See ?`trim,GenomicRanges-method` for more information.”\n",
      "Warning message in valid.GenomicRanges.seqinfo(x, suggest.trim = TRUE):\n",
      "“GRanges object contains 1 out-of-bound range located on sequence chr17.\n",
      "  Note that ranges located on a sequence whose length is unknown (NA) or\n",
      "  on a circular sequence are not considered out-of-bound (use\n",
      "  seqlengths() and isCircular() to get the lengths and circularity flags\n",
      "  of the underlying sequences). You can use trim() to trim these ranges.\n",
      "  See ?`trim,GenomicRanges-method` for more information.”\n",
      "Warning message in valid.GenomicRanges.seqinfo(x, suggest.trim = TRUE):\n",
      "“GRanges object contains 1 out-of-bound range located on sequence chr17.\n",
      "  Note that ranges located on a sequence whose length is unknown (NA) or\n",
      "  on a circular sequence are not considered out-of-bound (use\n",
      "  seqlengths() and isCircular() to get the lengths and circularity flags\n",
      "  of the underlying sequences). You can use trim() to trim these ranges.\n",
      "  See ?`trim,GenomicRanges-method` for more information.”\n"
     ]
    }
   ],
   "source": [
    "hg19_bed <- getGenome('hg19')\n",
    "b <- subtractRegions(hg19_bed, map_bed)"
   ]
  },
  {
   "cell_type": "code",
   "execution_count": null,
   "metadata": {},
   "outputs": [],
   "source": [
    "map_randomized <- createRandomRegions(nregions=length(map_bed),\n",
    "                                      length.mean=mean(map_bed@ranges@width),\n",
    "                                      length.sd=sqrt(var(map_bed@ranges@width)),\n",
    "                                      genome='hg19',\n",
    "                                      mask=genomic_mask)"
   ]
  },
  {
   "cell_type": "code",
   "execution_count": null,
   "metadata": {},
   "outputs": [],
   "source": []
  }
 ],
 "metadata": {
  "kernelspec": {
   "display_name": "R",
   "language": "R",
   "name": "ir"
  },
  "language_info": {
   "codemirror_mode": "r",
   "file_extension": ".r",
   "mimetype": "text/x-r-source",
   "name": "R",
   "pygments_lexer": "r",
   "version": "4.1.1"
  },
  "toc": {
   "base_numbering": 1,
   "nav_menu": {},
   "number_sections": true,
   "sideBar": true,
   "skip_h1_title": false,
   "title_cell": "Table of Contents",
   "title_sidebar": "Contents",
   "toc_cell": false,
   "toc_position": {},
   "toc_section_display": true,
   "toc_window_display": false
  }
 },
 "nbformat": 4,
 "nbformat_minor": 2
}
